{
 "cells": [
  {
   "cell_type": "code",
   "execution_count": 1,
   "id": "537dad1b",
   "metadata": {},
   "outputs": [],
   "source": [
    "import pandas as pd"
   ]
  },
  {
   "cell_type": "code",
   "execution_count": 2,
   "id": "5476f000",
   "metadata": {},
   "outputs": [],
   "source": [
    "data = pd.read_csv('HR Data.csv')"
   ]
  },
  {
   "cell_type": "code",
   "execution_count": 3,
   "id": "eddf5690",
   "metadata": {},
   "outputs": [
    {
     "name": "stdout",
     "output_type": "stream",
     "text": [
      "Before Data Cleansing:\n",
      "   Age Attrition     BusinessTravel  DailyRate              Department  \\\n",
      "0   41       Yes      Travel_Rarely       1102                   Sales   \n",
      "1   49        No  Travel_Frequently        279  Research & Development   \n",
      "2   37       Yes      Travel_Rarely       1373  Research & Development   \n",
      "3   33        No  Travel_Frequently       1392  Research & Development   \n",
      "4   27        No      Travel_Rarely        591  Research & Development   \n",
      "\n",
      "   DistanceFromHome  Education EducationField  EmployeeCount  EmployeeNumber  \\\n",
      "0                 1          2  Life Sciences              1               1   \n",
      "1                 8          1  Life Sciences              1               2   \n",
      "2                 2          2          Other              1               4   \n",
      "3                 3          4  Life Sciences              1               5   \n",
      "4                 2          1        Medical              1               7   \n",
      "\n",
      "   ...  RelationshipSatisfaction StandardHours  StockOptionLevel  \\\n",
      "0  ...                         1            80                 0   \n",
      "1  ...                         4            80                 1   \n",
      "2  ...                         2            80                 0   \n",
      "3  ...                         3            80                 0   \n",
      "4  ...                         4            80                 1   \n",
      "\n",
      "   TotalWorkingYears  TrainingTimesLastYear WorkLifeBalance  YearsAtCompany  \\\n",
      "0                  8                      0               1               6   \n",
      "1                 10                      3               3              10   \n",
      "2                  7                      3               3               0   \n",
      "3                  8                      3               3               8   \n",
      "4                  6                      3               3               2   \n",
      "\n",
      "  YearsInCurrentRole  YearsSinceLastPromotion  YearsWithCurrManager  \n",
      "0                  4                        0                     5  \n",
      "1                  7                        1                     7  \n",
      "2                  0                        0                     0  \n",
      "3                  7                        3                     0  \n",
      "4                  2                        2                     2  \n",
      "\n",
      "[5 rows x 35 columns]\n"
     ]
    }
   ],
   "source": [
    "print(\"Before Data Cleansing:\")\n",
    "print(data.head())"
   ]
  },
  {
   "cell_type": "code",
   "execution_count": 4,
   "id": "7b074707",
   "metadata": {},
   "outputs": [],
   "source": [
    "columns_to_remove = ['EmployeeCount', 'StandardHours']\n",
    "data.drop(columns=columns_to_remove, inplace=True)\n"
   ]
  },
  {
   "cell_type": "code",
   "execution_count": 5,
   "id": "e4ad275e",
   "metadata": {},
   "outputs": [
    {
     "name": "stdout",
     "output_type": "stream",
     "text": [
      "   Age Attrition     BusinessTravel  DailyRate              Department  \\\n",
      "0   41       Yes      Travel_Rarely       1102                   Sales   \n",
      "1   49        No  Travel_Frequently        279  Research & Development   \n",
      "2   37       Yes      Travel_Rarely       1373  Research & Development   \n",
      "3   33        No  Travel_Frequently       1392  Research & Development   \n",
      "4   27        No      Travel_Rarely        591  Research & Development   \n",
      "\n",
      "   DistanceFromHome  Education EducationField  EmployeeNumber  \\\n",
      "0                 1          2  Life Sciences               1   \n",
      "1                 8          1  Life Sciences               2   \n",
      "2                 2          2          Other               4   \n",
      "3                 3          4  Life Sciences               5   \n",
      "4                 2          1        Medical               7   \n",
      "\n",
      "   EnvironmentSatisfaction  ... PerformanceRating  RelationshipSatisfaction  \\\n",
      "0                        2  ...                 3                         1   \n",
      "1                        3  ...                 4                         4   \n",
      "2                        4  ...                 3                         2   \n",
      "3                        4  ...                 3                         3   \n",
      "4                        1  ...                 3                         4   \n",
      "\n",
      "   StockOptionLevel  TotalWorkingYears TrainingTimesLastYear  WorkLifeBalance  \\\n",
      "0                 0                  8                     0                1   \n",
      "1                 1                 10                     3                3   \n",
      "2                 0                  7                     3                3   \n",
      "3                 0                  8                     3                3   \n",
      "4                 1                  6                     3                3   \n",
      "\n",
      "  YearsAtCompany  YearsInCurrentRole  YearsSinceLastPromotion  \\\n",
      "0              6                   4                        0   \n",
      "1             10                   7                        1   \n",
      "2              0                   0                        0   \n",
      "3              8                   7                        3   \n",
      "4              2                   2                        2   \n",
      "\n",
      "   YearsWithCurrManager  \n",
      "0                     5  \n",
      "1                     7  \n",
      "2                     0  \n",
      "3                     0  \n",
      "4                     2  \n",
      "\n",
      "[5 rows x 33 columns]\n"
     ]
    }
   ],
   "source": [
    "print(data.head())"
   ]
  },
  {
   "cell_type": "code",
   "execution_count": 6,
   "id": "fed2be4d",
   "metadata": {},
   "outputs": [],
   "source": [
    "columns_to_rename = {\n",
    "    'Age': 'Employee Age',\n",
    "    'Attrition': 'Employee Attrition',\n",
    "    'BusinessTravel': 'Travel Frequency',\n",
    "    'DailyRate': 'Daily Pay Rate',\n",
    "    'Department': 'Work Department',\n",
    "    'DistanceFromHome': 'Home Distance',\n",
    "    'Education': 'Education Level',\n",
    "    'EducationField': 'Field of Education',\n",
    "    'EmployeeNumber': 'Employee ID',\n",
    "    'EnvironmentSatisfaction': 'Job Environment Satisfaction',\n",
    "    'Gender': 'Gender',\n",
    "    'HourlyRate': 'Hourly Pay Rate',\n",
    "    'JobInvolvement': 'Job Involvement Level',\n",
    "    'JobLevel': 'Job Level',\n",
    "    'JobRole': 'Role in Company',\n",
    "    'JobSatisfaction': 'Job Satisfaction Level',\n",
    "    'MaritalStatus': 'Marital Status',\n",
    "    'MonthlyIncome': 'Monthly Income',\n",
    "    'MonthlyRate': 'Monthly Pay Rate',\n",
    "    'NumCompaniesWorked': 'Number of Companies Worked',\n",
    "    'Over18': 'Over 18',\n",
    "    'OverTime': 'Overtime',\n",
    "    'PercentSalaryHike': 'Salary Hike Percent',\n",
    "    'PerformanceRating': 'Performance Rating',\n",
    "    'RelationshipSatisfaction': 'Relationship Satisfaction Level',\n",
    "    'StockOptionLevel': 'Stock Option Level',\n",
    "    'TotalWorkingYears': 'Total Working Years',\n",
    "    'TrainingTimesLastYear': 'Training Times Last Year',\n",
    "    'WorkLifeBalance': 'Work-Life Balance Level',\n",
    "    'YearsAtCompany': 'Years at Company',\n",
    "    'YearsInCurrentRole': 'Years in Current Role',\n",
    "    'YearsSinceLastPromotion': 'Years Since Last Promotion',\n",
    "    'YearsWithCurrManager': 'Years with Current Manager'\n",
    "}\n",
    "\n",
    "data.rename(columns=columns_to_rename, inplace=True)\n",
    "\n",
    "# 3. Eliminate redundant entries (e.g., duplicate rows)\n",
    "data.drop_duplicates(inplace=True)\n"
   ]
  },
  {
   "cell_type": "code",
   "execution_count": 7,
   "id": "0dc15cef",
   "metadata": {},
   "outputs": [
    {
     "name": "stdout",
     "output_type": "stream",
     "text": [
      "   Employee Age Employee Attrition   Travel Frequency  Daily Pay Rate  \\\n",
      "0            41                Yes      Travel_Rarely            1102   \n",
      "1            49                 No  Travel_Frequently             279   \n",
      "2            37                Yes      Travel_Rarely            1373   \n",
      "3            33                 No  Travel_Frequently            1392   \n",
      "4            27                 No      Travel_Rarely             591   \n",
      "\n",
      "          Work Department  Home Distance  Education Level Field of Education  \\\n",
      "0                   Sales              1                2      Life Sciences   \n",
      "1  Research & Development              8                1      Life Sciences   \n",
      "2  Research & Development              2                2              Other   \n",
      "3  Research & Development              3                4      Life Sciences   \n",
      "4  Research & Development              2                1            Medical   \n",
      "\n",
      "   Employee ID  Job Environment Satisfaction  ... Performance Rating  \\\n",
      "0            1                             2  ...                  3   \n",
      "1            2                             3  ...                  4   \n",
      "2            4                             4  ...                  3   \n",
      "3            5                             4  ...                  3   \n",
      "4            7                             1  ...                  3   \n",
      "\n",
      "   Relationship Satisfaction Level  Stock Option Level  Total Working Years  \\\n",
      "0                                1                   0                    8   \n",
      "1                                4                   1                   10   \n",
      "2                                2                   0                    7   \n",
      "3                                3                   0                    8   \n",
      "4                                4                   1                    6   \n",
      "\n",
      "  Training Times Last Year  Work-Life Balance Level Years at Company  \\\n",
      "0                        0                        1                6   \n",
      "1                        3                        3               10   \n",
      "2                        3                        3                0   \n",
      "3                        3                        3                8   \n",
      "4                        3                        3                2   \n",
      "\n",
      "   Years in Current Role  Years Since Last Promotion  \\\n",
      "0                      4                           0   \n",
      "1                      7                           1   \n",
      "2                      0                           0   \n",
      "3                      7                           3   \n",
      "4                      2                           2   \n",
      "\n",
      "   Years with Current Manager  \n",
      "0                           5  \n",
      "1                           7  \n",
      "2                           0  \n",
      "3                           0  \n",
      "4                           2  \n",
      "\n",
      "[5 rows x 33 columns]\n"
     ]
    }
   ],
   "source": [
    "print(data.head())"
   ]
  },
  {
   "cell_type": "code",
   "execution_count": 8,
   "id": "04c88640",
   "metadata": {},
   "outputs": [],
   "source": [
    "data['Gender'] = data['Gender'].replace({'M': 'Male', 'F': 'Female'})"
   ]
  },
  {
   "cell_type": "code",
   "execution_count": 9,
   "id": "d0c8f0d6",
   "metadata": {},
   "outputs": [],
   "source": [
    "columns_to_standardize = ['Travel Frequency', 'Work Department', 'Field of Education', 'Role in Company', 'Marital Status']\n",
    "for column in columns_to_standardize:\n",
    "    data[column] = data[column].str.strip().str.title()"
   ]
  },
  {
   "cell_type": "code",
   "execution_count": 12,
   "id": "3dcf46d8",
   "metadata": {},
   "outputs": [],
   "source": [
    "data.dropna(inplace=True)\n",
    "data['Over 18'] = data['Over 18'].replace({'Y': 'Yes','N':'No'})"
   ]
  },
  {
   "cell_type": "code",
   "execution_count": 13,
   "id": "c11e2870",
   "metadata": {},
   "outputs": [
    {
     "name": "stdout",
     "output_type": "stream",
     "text": [
      "After Data Cleansing:\n",
      "   Employee Age Employee Attrition   Travel Frequency  Daily Pay Rate  \\\n",
      "0            41                Yes      Travel_Rarely            1102   \n",
      "1            49                 No  Travel_Frequently             279   \n",
      "2            37                Yes      Travel_Rarely            1373   \n",
      "3            33                 No  Travel_Frequently            1392   \n",
      "4            27                 No      Travel_Rarely             591   \n",
      "\n",
      "          Work Department  Home Distance  Education Level Field of Education  \\\n",
      "0                   Sales              1                2      Life Sciences   \n",
      "1  Research & Development              8                1      Life Sciences   \n",
      "2  Research & Development              2                2              Other   \n",
      "3  Research & Development              3                4      Life Sciences   \n",
      "4  Research & Development              2                1            Medical   \n",
      "\n",
      "   Employee ID  Job Environment Satisfaction  ... Performance Rating  \\\n",
      "0            1                             2  ...                  3   \n",
      "1            2                             3  ...                  4   \n",
      "2            4                             4  ...                  3   \n",
      "3            5                             4  ...                  3   \n",
      "4            7                             1  ...                  3   \n",
      "\n",
      "   Relationship Satisfaction Level  Stock Option Level  Total Working Years  \\\n",
      "0                                1                   0                    8   \n",
      "1                                4                   1                   10   \n",
      "2                                2                   0                    7   \n",
      "3                                3                   0                    8   \n",
      "4                                4                   1                    6   \n",
      "\n",
      "  Training Times Last Year  Work-Life Balance Level Years at Company  \\\n",
      "0                        0                        1                6   \n",
      "1                        3                        3               10   \n",
      "2                        3                        3                0   \n",
      "3                        3                        3                8   \n",
      "4                        3                        3                2   \n",
      "\n",
      "   Years in Current Role  Years Since Last Promotion  \\\n",
      "0                      4                           0   \n",
      "1                      7                           1   \n",
      "2                      0                           0   \n",
      "3                      7                           3   \n",
      "4                      2                           2   \n",
      "\n",
      "   Years with Current Manager  \n",
      "0                           5  \n",
      "1                           7  \n",
      "2                           0  \n",
      "3                           0  \n",
      "4                           2  \n",
      "\n",
      "[5 rows x 33 columns]\n"
     ]
    }
   ],
   "source": [
    "print(\"After Data Cleansing:\")\n",
    "print(data.head())\n"
   ]
  },
  {
   "cell_type": "code",
   "execution_count": 14,
   "id": "fbcef08d",
   "metadata": {},
   "outputs": [],
   "source": [
    "if 'Job Level' in data.columns:\n",
    "    data['Job Level'] = pd.to_numeric(data['Job Level'], errors='coerce')\n",
    "    data['Job Level'].fillna(0, inplace=True)  # Replace NaN with 0 or a default value\n",
    "\n",
    "# 5. Eliminate rows with NaN values\n",
    "data.dropna(inplace=True)"
   ]
  },
  {
   "cell_type": "code",
   "execution_count": 15,
   "id": "fdbcbd8f",
   "metadata": {},
   "outputs": [],
   "source": [
    "# Additional changes if necessary\n",
    "# Example: Converting 'Salary Hike Percent' to numeric and ensuring it's within a reasonable range\n",
    "if 'Salary Hike Percent' in data.columns:\n",
    "    data['Salary Hike Percent'] = pd.to_numeric(data['Salary Hike Percent'], errors='coerce')\n",
    "    data['Salary Hike Percent'].fillna(0, inplace=True)  # Replace NaN with 0 or a default value\n"
   ]
  },
  {
   "cell_type": "code",
   "execution_count": 16,
   "id": "44b1fe77",
   "metadata": {},
   "outputs": [
    {
     "name": "stdout",
     "output_type": "stream",
     "text": [
      "After Data Cleansing:\n",
      "   Employee Age Employee Attrition   Travel Frequency  Daily Pay Rate  \\\n",
      "0            41                Yes      Travel_Rarely            1102   \n",
      "1            49                 No  Travel_Frequently             279   \n",
      "2            37                Yes      Travel_Rarely            1373   \n",
      "3            33                 No  Travel_Frequently            1392   \n",
      "4            27                 No      Travel_Rarely             591   \n",
      "\n",
      "          Work Department  Home Distance  Education Level Field of Education  \\\n",
      "0                   Sales              1                2      Life Sciences   \n",
      "1  Research & Development              8                1      Life Sciences   \n",
      "2  Research & Development              2                2              Other   \n",
      "3  Research & Development              3                4      Life Sciences   \n",
      "4  Research & Development              2                1            Medical   \n",
      "\n",
      "   Employee ID  Job Environment Satisfaction  ... Performance Rating  \\\n",
      "0            1                             2  ...                  3   \n",
      "1            2                             3  ...                  4   \n",
      "2            4                             4  ...                  3   \n",
      "3            5                             4  ...                  3   \n",
      "4            7                             1  ...                  3   \n",
      "\n",
      "   Relationship Satisfaction Level  Stock Option Level  Total Working Years  \\\n",
      "0                                1                   0                    8   \n",
      "1                                4                   1                   10   \n",
      "2                                2                   0                    7   \n",
      "3                                3                   0                    8   \n",
      "4                                4                   1                    6   \n",
      "\n",
      "  Training Times Last Year  Work-Life Balance Level Years at Company  \\\n",
      "0                        0                        1                6   \n",
      "1                        3                        3               10   \n",
      "2                        3                        3                0   \n",
      "3                        3                        3                8   \n",
      "4                        3                        3                2   \n",
      "\n",
      "   Years in Current Role  Years Since Last Promotion  \\\n",
      "0                      4                           0   \n",
      "1                      7                           1   \n",
      "2                      0                           0   \n",
      "3                      7                           3   \n",
      "4                      2                           2   \n",
      "\n",
      "   Years with Current Manager  \n",
      "0                           5  \n",
      "1                           7  \n",
      "2                           0  \n",
      "3                           0  \n",
      "4                           2  \n",
      "\n",
      "[5 rows x 33 columns]\n"
     ]
    }
   ],
   "source": [
    "print(\"After Data Cleansing:\")\n",
    "print(data.head())\n",
    "\n",
    "# Save the cleansed data to a new CSV file\n",
    "data.to_csv('hr_data_cleansed.csv', index=False)"
   ]
  },
  {
   "cell_type": "code",
   "execution_count": null,
   "id": "3631a3d0",
   "metadata": {},
   "outputs": [],
   "source": []
  }
 ],
 "metadata": {
  "kernelspec": {
   "display_name": "Python 3 (ipykernel)",
   "language": "python",
   "name": "python3"
  },
  "language_info": {
   "codemirror_mode": {
    "name": "ipython",
    "version": 3
   },
   "file_extension": ".py",
   "mimetype": "text/x-python",
   "name": "python",
   "nbconvert_exporter": "python",
   "pygments_lexer": "ipython3",
   "version": "3.11.3"
  }
 },
 "nbformat": 4,
 "nbformat_minor": 5
}
